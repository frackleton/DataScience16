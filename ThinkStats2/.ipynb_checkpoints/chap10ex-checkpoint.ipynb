{
 "cells": [
  {
   "cell_type": "markdown",
   "metadata": {},
   "source": [
    "Exercise from Think Stats, 2nd Edition (thinkstats2.com)<br>\n",
    "Allen Downey"
   ]
  },
  {
   "cell_type": "code",
   "execution_count": 2,
   "metadata": {
    "collapsed": false
   },
   "outputs": [
    {
     "name": "stderr",
     "output_type": "stream",
     "text": [
      "/home/mackenzie/anaconda2/lib/python2.7/site-packages/matplotlib/font_manager.py:273: UserWarning: Matplotlib is building the font cache using fc-list. This may take a moment.\n",
      "  warnings.warn('Matplotlib is building the font cache using fc-list. This may take a moment.')\n"
     ]
    }
   ],
   "source": [
    "%matplotlib inline\n",
    "import thinkstats2\n",
    "import numpy as np\n",
    "import brfss\n",
    "import matplotlib.pyplot as plt\n",
    "\n",
    "df = brfss.ReadBrfss()\n",
    "df= df.dropna(subset=['htm3','wtkg2'])\n"
   ]
  },
  {
   "cell_type": "markdown",
   "metadata": {},
   "source": [
    "Using the data from the BRFSS, compute the linear least squares fit for log(weight) versus height. How would you best present the estimated parameters for a model like this where one of the variables is log-transformed? If you were trying to guess someone’s weight, how much would it help to know their height? "
   ]
  },
  {
   "cell_type": "code",
   "execution_count": 6,
   "metadata": {
    "collapsed": false
   },
   "outputs": [
    {
     "data": {
      "text/plain": [
       "\"Estimated parameters would probably be pretty sketchy, but I would generate a standard error and confidence interval. \\nHeight would be helpful in getting to the right ballpark for weight, but it doesn't describe unknown variables like diet and exercise\""
      ]
     },
     "execution_count": 6,
     "metadata": {},
     "output_type": "execute_result"
    },
    {
     "data": {
      "image/png": "[encoded data removed]",
      "text/plain": [
       "<matplotlib.figure.Figure at 0x7f3871312690>"
      ]
     },
     "metadata": {},
     "output_type": "display_data"
    }
   ],
   "source": [
    "heights, weights = df.htm3, df.wtkg2\n",
    "\n",
    "#expect log(weight) to be function of height\n",
    "inter, slope =thinkstats2.LeastSquares(heights,np.log(weights))\n",
    "fit_xs, fit_ys = thinkstats2.FitLine(heights, inter, slope)\n",
    "plt.plot(fit_xs, fit_ys, 'r')\n",
    "plt.scatter(heights,np.log(weights))\n",
    "plt.yscale('log')\n",
    "plt.ylabel('weight (kg) log scale')\n",
    "plt.xlabel('height')\n",
    "plt.show\n",
    "\n",
    "\"\"\"Estimated parameters would probably be pretty sketchy, but I would generate a standard error and confidence interval. \n",
    "Height would be helpful in getting to the right ballpark for weight, but it doesn't describe unknown variables like diet and exercise\"\"\""
   ]
  },
  {
   "cell_type": "markdown",
   "metadata": {},
   "source": [
    "## Clarifying Questions\n",
    "\n",
    "Use this space to ask questions regarding the content covered in the reading. These questions should be restricted to helping you better understand the material. For questions that push beyond what is in the reading, use the next answer field. If you don't have a fully formed question, but are generally having a difficult time with a topic, you can indicate that here as well."
   ]
  },
  {
   "cell_type": "markdown",
   "metadata": {},
   "source": [
    "I'm still fuzzy on what residuals really are. I understand they can be more useful than certain correlation measures, but is there a less jargon-y explanation for residuals? \n",
    "When do we actually need to divide parameters into quartiles (why is this useful)? \n"
   ]
  },
  {
   "cell_type": "markdown",
   "metadata": {},
   "source": [
    "## Enrichment Questions\n",
    "\n",
    "Use this space to ask any questions that go beyond (but are related to) the material presented in this reading. Perhaps there is a particular topic you'd like to see covered in more depth. Perhaps you'd like to know how to use a library in a way that wasn't show in the reading. One way to think about this is what additional topics would you want covered in the next class (or addressed in a followup e-mail to the class). I'm a little fuzzy on what stuff will likely go here, so we'll see how things evolve."
   ]
  },
  {
   "cell_type": "markdown",
   "metadata": {},
   "source": [
    "Could we talk more about manipulated variables like log(weight)? At what times are transformed parameters helpful, and what kind of transformations are helpful? \n",
    "It would also be helpful to address the differences between packages like matplotlib and Allen's thinkplot that he created. I know he made it to be helpful for the book, but it would be awesome to know how to make thinkplot stuff on my own. "
   ]
  },
  {
   "cell_type": "markdown",
   "metadata": {},
   "source": [
    "## Additional Resources / Explorations\n",
    "\n",
    "If you found any useful resources, or tried some useful exercises that you'd like to report please do so here. Let us know what you did, what you learned, and how others can replicate it."
   ]
  },
  {
   "cell_type": "markdown",
   "metadata": {},
   "source": [
    "pyplt documentation is always nice"
   ]
  }
 ],
 "metadata": {
  "kernelspec": {
   "display_name": "Python 2",
   "language": "python",
   "name": "python2"
  },
  "language_info": {
   "codemirror_mode": {
    "name": "ipython",
    "version": 2
   },
   "file_extension": ".py",
   "mimetype": "text/x-python",
   "name": "python",
   "nbconvert_exporter": "python",
   "pygments_lexer": "ipython2",
   "version": "2.7.11"
  }
 },
 "nbformat": 4,
 "nbformat_minor": 0
}
