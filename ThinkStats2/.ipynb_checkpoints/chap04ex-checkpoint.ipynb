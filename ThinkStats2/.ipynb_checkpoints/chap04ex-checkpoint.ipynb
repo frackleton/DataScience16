{
 "cells": [
  {
   "cell_type": "markdown",
   "metadata": {},
   "source": [
    "Exercise from Think Stats, 2nd Edition (thinkstats2.com)<br>\n",
    "Allen Downey\n",
    "\n",
    "Read the pregnancy file."
   ]
  },
  {
   "cell_type": "code",
   "execution_count": 46,
   "metadata": {
    "collapsed": false
   },
   "outputs": [],
   "source": [
    "%matplotlib inline\n",
    "import thinkstats2\n",
    "import thinkplot\n",
    "import nsfg\n",
    "preg = nsfg.ReadFemPreg()"
   ]
  },
  {
   "cell_type": "markdown",
   "metadata": {},
   "source": [
    "Select live births, then make a CDF of <tt>totalwgt_lb</tt>. "
   ]
  },
  {
   "cell_type": "code",
   "execution_count": 12,
   "metadata": {
    "collapsed": false
   },
   "outputs": [],
   "source": [
    "live = preg[preg.outcome ==1]\n",
    "\n",
    "live.head()\n",
    "cdf = thinkstats2.Cdf(live.totalwgt_lb, label='totalwgt_lb')"
   ]
  },
  {
   "cell_type": "markdown",
   "metadata": {},
   "source": [
    "Display the CDF."
   ]
  },
  {
   "cell_type": "code",
   "execution_count": 13,
   "metadata": {
    "collapsed": false
   },
   "outputs": [
    {
     "data": {
      "image/png": "[encoded data removed]",
      "text/plain": [
       "<matplotlib.figure.Figure at 0x7f79711d8f10>"
      ]
     },
     "metadata": {},
     "output_type": "display_data"
    },
    {
     "data": {
      "text/plain": [
       "<matplotlib.figure.Figure at 0x7f796be9b090>"
      ]
     },
     "metadata": {},
     "output_type": "display_data"
    }
   ],
   "source": [
    "thinkplot.Cdf(cdf)\n",
    "thinkplot.Show(xlabel='weeks', ylabel = 'CDF')"
   ]
  },
  {
   "cell_type": "markdown",
   "metadata": {},
   "source": [
    "Find out how much you weighed at birth, if you can, and compute CDF(x). "
   ]
  },
  {
   "cell_type": "code",
   "execution_count": 16,
   "metadata": {
    "collapsed": false
   },
   "outputs": [
    {
     "name": "stdout",
     "output_type": "stream",
     "text": [
      "CDF(my birthweight) =  0.592830272184\n"
     ]
    }
   ],
   "source": [
    "print \"CDF(my birthweight) = \" , cdf.Prob(7.5625)"
   ]
  },
  {
   "cell_type": "markdown",
   "metadata": {},
   "source": [
    "If you are a first child, look up your birthweight in the CDF of first children; otherwise use the CDF of other children."
   ]
  },
  {
   "cell_type": "code",
   "execution_count": 18,
   "metadata": {
    "collapsed": false
   },
   "outputs": [
    {
     "data": {
      "text/plain": [
       "0.61288104515241804"
      ]
     },
     "execution_count": 18,
     "metadata": {},
     "output_type": "execute_result"
    }
   ],
   "source": [
    "\"\"\"I'm the first child of my mother but not my father. So for this purpose I'm using the CDF of first children\"\"\"\n",
    "\n",
    "first = live[live.birthord ==1]\n",
    "firstCdf = thinkstats2.Cdf(first.totalwgt_lb, label='firsts totalwgt_lb')\n",
    "firstCdf.Prob(7.5625)"
   ]
  },
  {
   "cell_type": "markdown",
   "metadata": {},
   "source": [
    "Compute the percentile rank of your birthweight"
   ]
  },
  {
   "cell_type": "code",
   "execution_count": 19,
   "metadata": {
    "collapsed": false
   },
   "outputs": [
    {
     "data": {
      "text/plain": [
       "61.288104515241805"
      ]
     },
     "execution_count": 19,
     "metadata": {},
     "output_type": "execute_result"
    }
   ],
   "source": [
    "firstCdf.PercentileRank(7.5625)"
   ]
  },
  {
   "cell_type": "markdown",
   "metadata": {},
   "source": [
    "Compute the median birth weight by looking up the value associated with p=0.5."
   ]
  },
  {
   "cell_type": "code",
   "execution_count": 24,
   "metadata": {
    "collapsed": false,
    "scrolled": true
   },
   "outputs": [
    {
     "name": "stdout",
     "output_type": "stream",
     "text": [
      "7.3125 7.3125\n"
     ]
    }
   ],
   "source": [
    "print firstCdf.Value(0.5), firstCdf.Percentile(50) #Hey look I did this twice"
   ]
  },
  {
   "cell_type": "markdown",
   "metadata": {},
   "source": [
    "Compute the interquartile range (IQR) by computing percentiles corresponding to 25 and 75. "
   ]
  },
  {
   "cell_type": "code",
   "execution_count": 25,
   "metadata": {
    "collapsed": false
   },
   "outputs": [
    {
     "name": "stdout",
     "output_type": "stream",
     "text": [
      "1.5625\n"
     ]
    }
   ],
   "source": [
    "IQR = firstCdf.Percentile(75)-firstCdf.Percentile(25)\n",
    "print IQR"
   ]
  },
  {
   "cell_type": "markdown",
   "metadata": {},
   "source": [
    "Make a random selection from <tt>cdf</tt>."
   ]
  },
  {
   "cell_type": "code",
   "execution_count": 31,
   "metadata": {
    "collapsed": false
   },
   "outputs": [
    {
     "data": {
      "text/plain": [
       "8.0"
      ]
     },
     "execution_count": 31,
     "metadata": {},
     "output_type": "execute_result"
    }
   ],
   "source": [
    "cdf.Random()"
   ]
  },
  {
   "cell_type": "markdown",
   "metadata": {},
   "source": [
    "Draw a random sample from <tt>cdf</tt>."
   ]
  },
  {
   "cell_type": "code",
   "execution_count": 33,
   "metadata": {
    "collapsed": false
   },
   "outputs": [
    {
     "data": {
      "text/plain": [
       "array([  5.1875,   8.    ,   7.5625,   6.375 ,   8.1875,   6.125 ,\n",
       "         6.5   ,   6.0625,   8.375 ,   7.3125,   8.875 ,   8.25  ,\n",
       "         3.625 ,   7.5625,   9.8125,   6.75  ,   8.    ,   9.75  ,\n",
       "         9.375 ,   8.    ,   4.5625,   5.5   ,   7.875 ,   7.375 ,\n",
       "        10.1875,   7.    ,   7.1875,  10.5   ,   7.125 ,   7.375 ,\n",
       "         6.8125,   7.875 ,   8.625 ,   8.5   ,   6.    ,   8.3125,\n",
       "         7.0625,   6.0625,   7.6875,   7.875 ,   7.9375,   8.5   ,\n",
       "         6.625 ,   8.    ,   7.3125,   8.5625,   6.25  ,   8.25  ,\n",
       "         6.375 ,   5.    ,   6.8125,   6.75  ,   7.    ,   2.9375,\n",
       "         9.125 ,   7.    ,   6.5   ,   6.25  ,  10.5   ,   6.875 ,\n",
       "         7.6875,   7.6875,   6.875 ,   7.125 ,   8.    ,   9.0625,\n",
       "         7.    ,   7.375 ,   8.375 ,   6.3125,   7.1875,   8.3125,\n",
       "         8.8125,   3.    ,   6.9375,   8.    ,   9.25  ,   7.125 ,\n",
       "         2.    ,   9.0625,   7.    ,   6.    ,   7.875 ,   6.875 ,\n",
       "         8.3125,   7.5   ,   7.1875,   6.3125,   7.75  ,   7.1875,\n",
       "         8.375 ,   6.75  ,   7.25  ,   7.    ,   7.75  ,   9.4375,\n",
       "         7.125 ,   7.75  ,   8.25  ,   7.125 ])"
      ]
     },
     "execution_count": 33,
     "metadata": {},
     "output_type": "execute_result"
    }
   ],
   "source": [
    "cdf.Sample(100)"
   ]
  },
  {
   "cell_type": "markdown",
   "metadata": {},
   "source": [
    "Draw a random sample from <tt>cdf</tt>, then compute the percentile rank for each value, and plot the distribution of the percentile ranks."
   ]
  },
  {
   "cell_type": "code",
   "execution_count": 35,
   "metadata": {
    "collapsed": false
   },
   "outputs": [
    {
     "data": {
      "image/png": "[encoded data removed]",
      "text/plain": [
       "<matplotlib.figure.Figure at 0x7f7971188350>"
      ]
     },
     "metadata": {},
     "output_type": "display_data"
    },
    {
     "data": {
      "text/plain": [
       "<matplotlib.figure.Figure at 0x7f7970d0d190>"
      ]
     },
     "metadata": {},
     "output_type": "display_data"
    }
   ],
   "source": [
    "\n",
    "rsamp = cdf.Sample(200)\n",
    "ranks = [cdf.PercentileRank(x) for x in rsamp]\n",
    "rank_cdf = thinkstats2.Cdf(ranks)\n",
    "thinkplot.Cdf(rank_cdf)\n",
    "thinkplot.Show(xlabel ='percentile rank', ylabel='CDF')"
   ]
  },
  {
   "cell_type": "markdown",
   "metadata": {},
   "source": [
    "Generate 1000 random values using <tt>random.random()</tt> and plot their PMF."
   ]
  },
  {
   "cell_type": "code",
   "execution_count": 64,
   "metadata": {
    "collapsed": false
   },
   "outputs": [],
   "source": [
    "import random\n",
    "ranNums=[100*random.random() for i in range(1000)]"
   ]
  },
  {
   "cell_type": "code",
   "execution_count": 59,
   "metadata": {
    "collapsed": false
   },
   "outputs": [
    {
     "data": {
      "image/png": "[encoded data removed]",
      "text/plain": [
       "<matplotlib.figure.Figure at 0x7f7970dd7350>"
      ]
     },
     "metadata": {},
     "output_type": "display_data"
    },
    {
     "data": {
      "text/plain": [
       "<matplotlib.figure.Figure at 0x7f7969405150>"
      ]
     },
     "metadata": {},
     "output_type": "display_data"
    }
   ],
   "source": [
    "pmf =thinkstats2.Pmf(ranNums, label ='ranPmf')\n",
    "thinkplot.Pmf(pmf)\n",
    "thinkplot.Show(xlabel = 'random integer',\n",
    "              ylabel ='probability'\n",
    "              )"
   ]
  },
  {
   "cell_type": "markdown",
   "metadata": {},
   "source": [
    "Assuming that the PMF doesn't work very well, try plotting the CDF instead."
   ]
  },
  {
   "cell_type": "code",
   "execution_count": 66,
   "metadata": {
    "collapsed": false
   },
   "outputs": [
    {
     "data": {
      "text/plain": [
       "<function thinkplot.Show>"
      ]
     },
     "execution_count": 66,
     "metadata": {},
     "output_type": "execute_result"
    },
    {
     "data": {
      "image/png": "[encoded data removed]",
      "text/plain": [
       "<matplotlib.figure.Figure at 0x7f7970dd7c90>"
      ]
     },
     "metadata": {},
     "output_type": "display_data"
    }
   ],
   "source": [
    "CDF = thinkstats2.Cdf(ranNums)\n",
    "thinkplot.Cdf(CDF)\n",
    "thinkplot.Show"
   ]
  },
  {
   "cell_type": "markdown",
   "metadata": {
    "collapsed": false
   },
   "source": [
    "### Clarifying Questions\n",
    "\n",
    "Use this space to ask questions regarding the content covered in the reading. These questions should be restricted to helping you better understand the material. For questions that push beyond what is in the reading, use the next answer field. If you don't have a fully formed question, but are generally having a difficult time with a topic, you can indicate that here as well."
   ]
  },
  {
   "cell_type": "markdown",
   "metadata": {},
   "source": [
    "I'm still fuzzy on the difference between percentile and percentile rank. Is there a way to describe both of them without using either in the description? \n",
    "I'd also like to talk more about the CDF of percentile ranks of random samples. Why does this distribution matter? "
   ]
  },
  {
   "cell_type": "markdown",
   "metadata": {},
   "source": [
    "### Enrichment Questions\n",
    "\n",
    "Use this space to ask any questions that go beyond (but are related to) the material presented in this reading. Perhaps there is a particular topic you'd like to see covered in more depth. Perhaps you'd like to know how to use a library in a way that wasn't show in the reading. One way to think about this is what additional topics would you want covered in the next class (or addressed in a followup e-mail to the class). I'm a little fuzzy on what stuff will likely go here, so we'll see how things evolve."
   ]
  },
  {
   "cell_type": "markdown",
   "metadata": {},
   "source": [
    "I would love to do more exploration on the mathematical properties of pmf's and cdf's. I know they can relate back to integration over the probability densities, but a more exact explationation would really help me grasp what I'm actually doing with CDFs and PMFs"
   ]
  },
  {
   "cell_type": "markdown",
   "metadata": {},
   "source": [
    "### Additional Resources / Explorations\n",
    "\n",
    "If you found any useful resources, or tried some useful exercises that you'd like to report please do so here. Let us know what you did, what you learned, and how others can replicate it."
   ]
  },
  {
   "cell_type": "markdown",
   "metadata": {},
   "source": []
  }
 ],
 "metadata": {
  "kernelspec": {
   "display_name": "Python 2",
   "language": "python",
   "name": "python2"
  },
  "language_info": {
   "codemirror_mode": {
    "name": "ipython",
    "version": 2
   },
   "file_extension": ".py",
   "mimetype": "text/x-python",
   "name": "python",
   "nbconvert_exporter": "python",
   "pygments_lexer": "ipython2",
   "version": "2.7.11"
  }
 },
 "nbformat": 4,
 "nbformat_minor": 0
}
