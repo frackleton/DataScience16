{
 "cells": [
  {
   "cell_type": "markdown",
   "metadata": {},
   "source": [
    "## ThinkStats 9.1 - 9.3 Companion\n",
    "\n",
    "This notebook will allow you to practice some of the concepts from ThinkStats2 Chapter 9.\n",
    "\n",
    "### Companion to 9.1 - 9.2\n",
    "\n",
    "First, we'll start with the question that Allen poses at the beginning of the chapter: \"Suppose we toss a coin 250 times and we see 140 heads.  Is this strong evidence that the coin is biased?\"\n",
    "\n",
    "As Allen says, classical hypothesis testing is similar to a proof by contradiction.  First, we assume that the thing we are trying to show is false (that the coin is biased).  Second, we show that this leads to an observed event being excedingly improbable (seeing 140 heads out of 250 tosses).  Finally, we can conclude that our assumption (that the coin is not biased) is unlikely to be true.\n",
    "\n",
    "Write a function to simulate n random coin flips of a fair coin (p(heads) = 0.5).  Your function should return the number of heads that occur in those n coin clips."
   ]
  },
  {
   "cell_type": "code",
   "execution_count": 18,
   "metadata": {
    "collapsed": false
   },
   "outputs": [
    {
     "name": "stdout",
     "output_type": "stream",
     "text": [
      "122\n"
     ]
    }
   ],
   "source": [
    "from random import choice\n",
    "import thinkstats2\n",
    "\n",
    "def simulate_fair_coin_flips(n):\n",
    "    \"\"\" Return the number of heads that occur in n flips of a\n",
    "        fair coin p(heads) = 0.5 \"\"\"\n",
    "    sample = [choice('HT') for _ in range(n)]\n",
    "    hist =thinkstats2.Hist(sample)\n",
    "    return hist['H']\n",
    "\n",
    "print simulate_fair_coin_flips(250)"
   ]
  },
  {
   "cell_type": "markdown",
   "metadata": {},
   "source": [
    "Next, repeat your simulation of 240 coin flips 1000 times.  Create and display a CDF of the number of times heads appears based on  1000 random trials."
   ]
  },
  {
   "cell_type": "code",
   "execution_count": 38,
   "metadata": {
    "collapsed": false,
    "scrolled": true
   },
   "outputs": [
    {
     "data": {
      "image/png": "[encoded data removed]",
      "text/plain": [
       "<matplotlib.figure.Figure at 0x7f5504987350>"
      ]
     },
     "metadata": {},
     "output_type": "display_data"
    },
    {
     "data": {
      "text/plain": [
       "<matplotlib.figure.Figure at 0x7f5505153690>"
      ]
     },
     "metadata": {},
     "output_type": "display_data"
    }
   ],
   "source": [
    "%matplotlib inline\n",
    "import thinkstats2\n",
    "import thinkplot\n",
    "import matplotlib.pyplot as plt\n",
    "\n",
    "# your implementation here (imports included for convenience)\n",
    "headsCounts= [simulate_fair_coin_flips(240) for i in range(1000)]\n",
    "cdf = thinkstats2.Cdf(headsCounts)\n",
    "thinkplot.Cdf(cdf)\n",
    "thinkplot.Config(title ='Number of times a fair coin toss results in heads')\n",
    "thinkplot.Show(xlabel = 'Coin toss resulting in heads', ylabel ='CDF')"
   ]
  },
  {
   "cell_type": "markdown",
   "metadata": {
    "collapsed": true
   },
   "source": [
    "The p-value is simply the probability that we would have seen a result as extreme (or greater) as 140 heads out of 250 flips under the hypothesis that the coin is fair (the null hypothesis).  Using the CDF you created in the previous cell, compute the p-value.  If you want to test your learning a bit more: compute the p-value without using the CDF explicitly (instead use the results of the 1000 random trials directly).\n",
    "\n",
    "Hint: you should use the PercentileRank function of CDF to compute the p-value, however, there is one important gotcha.  The PercentileRank function returns the percentage of data that is equal to or less than the input value.  When computing the p-value we want the percentage of the data that is equal to or greater than the observed value."
   ]
  },
  {
   "cell_type": "code",
   "execution_count": 39,
   "metadata": {
    "collapsed": false
   },
   "outputs": [
    {
     "name": "stdout",
     "output_type": "stream",
     "text": [
      "P-value using CDF:  0.004\n",
      "P-value using the results of 1000 random trials directly:  0.004\n"
     ]
    }
   ],
   "source": [
    "percRank = cdf.PercentileRank(139)\n",
    "pVal = 1 - percRank/100\n",
    "print \"P-value using CDF: \",pVal\n",
    "\n",
    "count = sum(1.0 for x in headsCounts if x>= 140.0)\n",
    "print \"P-value using the results of 1000 random trials directly: \",count/1000"
   ]
  },
  {
   "cell_type": "markdown",
   "metadata": {},
   "source": [
    "The p-value we computed above is called a [one-tailed test](https://en.wikipedia.org/wiki/One-_and_two-tailed_tests) in that we only counted simulations of the null-hypothesis that had 140 or more heads (Allen uses the terminology of one versus two-sided tests, see ThinkStats2 9.4).  A two-tailed test would count simulations with 140 or more tails as well (which is what Allen shows in the book).  Whether to use a one-tailed or a two-tailed test mostly has to do with your prior expectations regarding the hypothesis you are testing.  For instance, if you had a reason to suspect that the coin would be biased towards heads (but not tails) you would use a one-tailed test.  If you had no reason to assume a priori that the coin was biased towards heads or tails, you should use a two-tailed test.\n",
    "\n",
    "Modify your coin flip simulation code to return the number of heads or tails, whichever is larger, out of n flips."
   ]
  },
  {
   "cell_type": "code",
   "execution_count": 44,
   "metadata": {
    "collapsed": false
   },
   "outputs": [
    {
     "name": "stdout",
     "output_type": "stream",
     "text": [
      "(127, 123)\n"
     ]
    }
   ],
   "source": [
    "def simulate_fair_coin_flips_two_sided(n):\n",
    "    \"\"\" Return the number of heads or tails, whichever is larger,\n",
    "        that occur in n flips of a fair coin p(heads) = 0.5 \"\"\"\n",
    "    sample = [choice('HT') for _ in range(n)]\n",
    "    hist =thinkstats2.Hist(sample)\n",
    "    return hist['H'], hist['T']\n",
    "\n",
    "print simulate_fair_coin_flips_two_sided(250)"
   ]
  },
  {
   "cell_type": "markdown",
   "metadata": {},
   "source": [
    "Using the function `simulate_fair_coin_flips_two_sided`, create and display a CDF of the number of times the most common outcome, heads or tails, appears based on 1000 random trials."
   ]
  },
  {
   "cell_type": "markdown",
   "metadata": {},
   "source": [
    "I'm not sure if you're asking me to pick either heads or tails, whichever appears in greater number, and then make that CDF or if you want me to compare the CDF of both. So I'm going to do both things"
   ]
  },
  {
   "cell_type": "code",
   "execution_count": 63,
   "metadata": {
    "collapsed": false
   },
   "outputs": [
    {
     "data": {
      "image/png": "[encoded data removed]",
      "text/plain": [
       "<matplotlib.figure.Figure at 0x7f553c3da390>"
      ]
     },
     "metadata": {},
     "output_type": "display_data"
    },
    {
     "data": {
      "text/plain": [
       "<matplotlib.figure.Figure at 0x7f5504903d90>"
      ]
     },
     "metadata": {},
     "output_type": "display_data"
    }
   ],
   "source": [
    "%matplotlib inline\n",
    "import thinkstats2\n",
    "import thinkplot\n",
    "import matplotlib.pyplot as plt\n",
    "\n",
    "# your implementation here (imports included for convenience)\n",
    "twoSidedResults = [simulate_fair_coin_flips_two_sided(250) for i in range(1000)]\n",
    "head, tail =zip(*twoSidedResults)\n",
    "\n",
    "cdfTwoHeads = thinkstats2.Cdf(head, label = 'heads counts')\n",
    "cdfTwoTails = thinkstats2.Cdf(tail, label = 'tails counts')\n",
    "\n",
    "thinkplot.PrePlot(2)\n",
    "thinkplot.Cdfs([cdfTwoHeads, cdfTwoTails])\n",
    "thinkplot.Config(title ='results of a fair coin toss')\n",
    "thinkplot.Show(xlabel = 'Times the coin toss results', ylabel ='CDF')"
   ]
  },
  {
   "cell_type": "code",
   "execution_count": 60,
   "metadata": {
    "collapsed": false
   },
   "outputs": [
    {
     "data": {
      "image/png": "[encoded data removed]",
      "text/plain": [
       "<matplotlib.figure.Figure at 0x7f5504843bd0>"
      ]
     },
     "metadata": {},
     "output_type": "display_data"
    },
    {
     "data": {
      "text/plain": [
       "<matplotlib.figure.Figure at 0x7f55048bb650>"
      ]
     },
     "metadata": {},
     "output_type": "display_data"
    }
   ],
   "source": [
    "%matplotlib inline\n",
    "import thinkstats2\n",
    "import thinkplot\n",
    "import matplotlib.pyplot as plt\n",
    "\n",
    "# your implementation here (imports included for convenience)\n",
    "twoSidedResults = [simulate_fair_coin_flips_two_sided(250) for i in range(1000)]\n",
    "head, tail =zip(*twoSidedResults)\n",
    "\n",
    "if sum(head) > sum(tail):\n",
    "    cdfTwoHeads = thinkstats2.Cdf(head, label = 'heads counts')\n",
    "    thinkplot.Cdf(cdfTwoHeads)\n",
    "    thinkplot.Config(title ='results of a fair coin toss')\n",
    "    thinkplot.Show(xlabel = 'Times the coin toss results', ylabel ='CDF')\n",
    "elif sum(tail) > sum(head):\n",
    "    cdfTwoTails = thinkstats2.Cdf(tail, label = 'tails counts')\n",
    "    thinkplot.Cdf(cdfTwoTails)\n",
    "    thinkplot.Config(title ='results of a fair coin toss')\n",
    "    thinkplot.Show(xlabel = 'Times the coin toss results', ylabel ='CDF')\n",
    "else:\n",
    "    print \"Results are equally common\""
   ]
  },
  {
   "cell_type": "markdown",
   "metadata": {},
   "source": [
    "Use the CDF to compute a two-tailed (or two-sided) p-value for the observed data (140 heads out of 250 flips)."
   ]
  },
  {
   "cell_type": "code",
   "execution_count": 64,
   "metadata": {
    "collapsed": false
   },
   "outputs": [
    {
     "name": "stdout",
     "output_type": "stream",
     "text": [
      "P-value using CDF:  0.029\n",
      "P-value using the results of 1000 random trials directly:  0.029\n"
     ]
    }
   ],
   "source": [
    "percRank = cdfTwoHeads.PercentileRank(139)\n",
    "pVal = 1 - percRank/100\n",
    "print \"P-value using CDF: \",pVal\n",
    "\n",
    "count = sum(1.0 for x in head if x>= 140.0)\n",
    "print \"P-value using the results of 1000 random trials directly: \",count/1000"
   ]
  },
  {
   "cell_type": "markdown",
   "metadata": {},
   "source": [
    "This approach (via simulations of the null-hypothesis) to computing p-values has its limitations.  For instance, suppose you observed 180 heads in 250 flips.  If you used your CDF from above to answer this question, what would go wrong?  What would you need to do in order to get a sensible estimate of this p-value?"
   ]
  },
  {
   "cell_type": "markdown",
   "metadata": {},
   "source": [
    "The CDF from above doesn't actually include 180 as a viable option, so it would theoretically have a percentile rank over 100% and a negative p-value. I would need to get either a cdf that represents 180 or  a conditional that cuts off at 100% to get a p-value representative of 0 to show the many heads are plausibly explained by more than chance. "
   ]
  },
  {
   "cell_type": "markdown",
   "metadata": {},
   "source": [
    "### Companion to 9.3\n",
    "\n",
    "In Section 9.3 Allen uses a permutation test to examine whether there is a significant difference between the pregnancy lengths for first babies versus others.  Here, I will ask you to implement a very similar test without using the base class `thinkstats2.HypothesisTest`.  This will be the second test you have implemented on your own.  From here on out, you may implement tests by inheriting from `thinkstats2.HypothesisTest`, or you can choose to simply roll your own.\n",
    "\n",
    "We will test the hypothesis that the mean age of men versus women on the titanic was different.  First, let's load the data and drop any rows where age is missing."
   ]
  },
  {
   "cell_type": "code",
   "execution_count": 101,
   "metadata": {
    "collapsed": false,
    "scrolled": true
   },
   "outputs": [
    {
     "data": {
      "text/html": [
       "<div>\n",
       "<table border=\"1\" class=\"dataframe\">\n",
       "  <thead>\n",
       "    <tr style=\"text-align: right;\">\n",
       "      <th></th>\n",
       "      <th>PassengerId</th>\n",
       "      <th>Survived</th>\n",
       "      <th>Pclass</th>\n",
       "      <th>Name</th>\n",
       "      <th>Sex</th>\n",
       "      <th>Age</th>\n",
       "      <th>SibSp</th>\n",
       "      <th>Parch</th>\n",
       "      <th>Ticket</th>\n",
       "      <th>Fare</th>\n",
       "      <th>Cabin</th>\n",
       "      <th>Embarked</th>\n",
       "    </tr>\n",
       "  </thead>\n",
       "  <tbody>\n",
       "    <tr>\n",
       "      <th>0</th>\n",
       "      <td>1</td>\n",
       "      <td>0</td>\n",
       "      <td>3</td>\n",
       "      <td>Braund, Mr. Owen Harris</td>\n",
       "      <td>male</td>\n",
       "      <td>22</td>\n",
       "      <td>1</td>\n",
       "      <td>0</td>\n",
       "      <td>A/5 21171</td>\n",
       "      <td>7.2500</td>\n",
       "      <td>NaN</td>\n",
       "      <td>S</td>\n",
       "    </tr>\n",
       "    <tr>\n",
       "      <th>1</th>\n",
       "      <td>2</td>\n",
       "      <td>1</td>\n",
       "      <td>1</td>\n",
       "      <td>Cumings, Mrs. John Bradley (Florence Briggs Th...</td>\n",
       "      <td>female</td>\n",
       "      <td>38</td>\n",
       "      <td>1</td>\n",
       "      <td>0</td>\n",
       "      <td>PC 17599</td>\n",
       "      <td>71.2833</td>\n",
       "      <td>C85</td>\n",
       "      <td>C</td>\n",
       "    </tr>\n",
       "    <tr>\n",
       "      <th>2</th>\n",
       "      <td>3</td>\n",
       "      <td>1</td>\n",
       "      <td>3</td>\n",
       "      <td>Heikkinen, Miss. Laina</td>\n",
       "      <td>female</td>\n",
       "      <td>26</td>\n",
       "      <td>0</td>\n",
       "      <td>0</td>\n",
       "      <td>STON/O2. 3101282</td>\n",
       "      <td>7.9250</td>\n",
       "      <td>NaN</td>\n",
       "      <td>S</td>\n",
       "    </tr>\n",
       "    <tr>\n",
       "      <th>3</th>\n",
       "      <td>4</td>\n",
       "      <td>1</td>\n",
       "      <td>1</td>\n",
       "      <td>Futrelle, Mrs. Jacques Heath (Lily May Peel)</td>\n",
       "      <td>female</td>\n",
       "      <td>35</td>\n",
       "      <td>1</td>\n",
       "      <td>0</td>\n",
       "      <td>113803</td>\n",
       "      <td>53.1000</td>\n",
       "      <td>C123</td>\n",
       "      <td>S</td>\n",
       "    </tr>\n",
       "    <tr>\n",
       "      <th>4</th>\n",
       "      <td>5</td>\n",
       "      <td>0</td>\n",
       "      <td>3</td>\n",
       "      <td>Allen, Mr. William Henry</td>\n",
       "      <td>male</td>\n",
       "      <td>35</td>\n",
       "      <td>0</td>\n",
       "      <td>0</td>\n",
       "      <td>373450</td>\n",
       "      <td>8.0500</td>\n",
       "      <td>NaN</td>\n",
       "      <td>S</td>\n",
       "    </tr>\n",
       "  </tbody>\n",
       "</table>\n",
       "</div>"
      ],
      "text/plain": [
       "   PassengerId  Survived  Pclass  \\\n",
       "0            1         0       3   \n",
       "1            2         1       1   \n",
       "2            3         1       3   \n",
       "3            4         1       1   \n",
       "4            5         0       3   \n",
       "\n",
       "                                                Name     Sex  Age  SibSp  \\\n",
       "0                            Braund, Mr. Owen Harris    male   22      1   \n",
       "1  Cumings, Mrs. John Bradley (Florence Briggs Th...  female   38      1   \n",
       "2                             Heikkinen, Miss. Laina  female   26      0   \n",
       "3       Futrelle, Mrs. Jacques Heath (Lily May Peel)  female   35      1   \n",
       "4                           Allen, Mr. William Henry    male   35      0   \n",
       "\n",
       "   Parch            Ticket     Fare Cabin Embarked  \n",
       "0      0         A/5 21171   7.2500   NaN        S  \n",
       "1      0          PC 17599  71.2833   C85        C  \n",
       "2      0  STON/O2. 3101282   7.9250   NaN        S  \n",
       "3      0            113803  53.1000  C123        S  \n",
       "4      0            373450   8.0500   NaN        S  "
      ]
     },
     "execution_count": 101,
     "metadata": {},
     "output_type": "execute_result"
    }
   ],
   "source": [
    "import pandas as pd\n",
    "\n",
    "data = pd.read_csv('train.csv')\n",
    "data = data.dropna(subset=['Age'])\n",
    "data.head()"
   ]
  },
  {
   "cell_type": "markdown",
   "metadata": {},
   "source": [
    "Write a function that takes as input a data frame and computes the absolute value of the difference in mean age between men and women."
   ]
  },
  {
   "cell_type": "code",
   "execution_count": 104,
   "metadata": {
    "collapsed": false
   },
   "outputs": [
    {
     "name": "stdout",
     "output_type": "stream",
     "text": [
      "observed age difference 2.81093577935\n"
     ]
    }
   ],
   "source": [
    "def compute_age_diff(data):\n",
    "    \"\"\" Compute the absolute value of the difference in mean age\n",
    "        between men and women on the titanic \"\"\"\n",
    "    fem = data[data.Sex == 'female']\n",
    "    mal = data[data.Sex == 'male']\n",
    "    ageDiff = abs(fem.Age.mean()-mal.Age.mean())\n",
    "    return ageDiff\n",
    "\n",
    "observed_age_diff = compute_age_diff(data)\n",
    "print \"observed age difference\", observed_age_diff"
   ]
  },
  {
   "cell_type": "markdown",
   "metadata": {},
   "source": [
    "Write a function called `shuffle_ages` that returns a copy of the original data frame but where the Ages have been randomly permuted.\n",
    "\n",
    "Hint: there are lots of ways to do this, but  `numpy.random.permutation` seems to be an especially succint choice.  Make sure to try this function out on a small, hand-made Pandas series to get the idea of how it works."
   ]
  },
  {
   "cell_type": "code",
   "execution_count": 103,
   "metadata": {
    "collapsed": false
   },
   "outputs": [
    {
     "data": {
      "text/plain": [
       "1.9901857349470973"
      ]
     },
     "execution_count": 103,
     "metadata": {},
     "output_type": "execute_result"
    }
   ],
   "source": [
    "from numpy.random import permutation\n",
    "\n",
    "def shuffle_ages(data):\n",
    "    \"\"\" Return a new dataframe (don't modify the original) where\n",
    "        the values in the Age column have been randomly permuted. \"\"\"\n",
    "    shuffled_data = data.copy()\n",
    "    shuffled_data.Age = permutation(shuffled_data.Age)\n",
    "    return shuffled_data\n",
    "    \n",
    "\n",
    "compute_age_diff(shuffle_ages(data))"
   ]
  },
  {
   "cell_type": "markdown",
   "metadata": {},
   "source": [
    "Using 1000 random simulations, compute the p-value for the hypothesis that the mean ages of men and women were different (you may wish to use Cdf as in the previous section)."
   ]
  },
  {
   "cell_type": "code",
   "execution_count": 115,
   "metadata": {
    "collapsed": false
   },
   "outputs": [
    {
     "name": "stdout",
     "output_type": "stream",
     "text": [
      "P-value using CDF:  1.1 %\n"
     ]
    },
    {
     "data": {
      "image/png": "[encoded data removed]",
      "text/plain": [
       "<matplotlib.figure.Figure at 0x7f5504778c50>"
      ]
     },
     "metadata": {},
     "output_type": "display_data"
    }
   ],
   "source": [
    "import thinkstats2\n",
    "\n",
    "ageDiffs= [compute_age_diff(shuffle_ages(data)) for i in range(1000)]\n",
    "ageCdf = thinkstats2.Cdf(ageDiffs)\n",
    "thinkplot.Cdf(ageCdf)\n",
    "#If I'm looking for mean ages that are different, I want anything that's not 0\n",
    "percentileRank =  ageCdf.PercentileRank(observed_age_diff)\n",
    "p_Val = 1 - percentileRank/100\n",
    "print \"P-value using CDF: \",p_Val*100, \"%\""
   ]
  },
  {
   "cell_type": "markdown",
   "metadata": {},
   "source": [
    "Ignoring passengers with missing ages:\n",
    "\n",
    "1.  Was the average age of male versus female passengers on the titanic different?\n",
    "2.  What additional (if any) conclusions can you draw based on the p-value you just computed?  In other words, what does this p-value mean?\n",
    "\n",
    "Disclaimer: (1) is a bit of a trick question (sorry!), but I included it to encourage being precise about the definition of the null hypothesis and eactly which population it refers to."
   ]
  },
  {
   "cell_type": "markdown",
   "metadata": {},
   "source": [
    "1. yes the average age is different (medain age difference is about 2.8) \n",
    "\n",
    "2. The mean difference in age is plausibly caused by more than chance. A random sample of one age group cannot definitely be male or female. The permutation results also suggest that it is unlikely that a random sample of titanic passengers will exhibt the same age difference. "
   ]
  },
  {
   "cell_type": "code",
   "execution_count": null,
   "metadata": {
    "collapsed": true
   },
   "outputs": [],
   "source": []
  }
 ],
 "metadata": {
  "kernelspec": {
   "display_name": "Python 2",
   "language": "python",
   "name": "python2"
  },
  "language_info": {
   "codemirror_mode": {
    "name": "ipython",
    "version": 2
   },
   "file_extension": ".py",
   "mimetype": "text/x-python",
   "name": "python",
   "nbconvert_exporter": "python",
   "pygments_lexer": "ipython2",
   "version": "2.7.11"
  }
 },
 "nbformat": 4,
 "nbformat_minor": 0
}
